{
  "nbformat": 4,
  "nbformat_minor": 0,
  "metadata": {
    "colab": {
      "provenance": []
    },
    "kernelspec": {
      "name": "python3",
      "display_name": "Python 3"
    },
    "language_info": {
      "name": "python"
    }
  },
  "cells": [
    {
      "cell_type": "markdown",
      "source": [
        "# **Project Name**"
      ],
      "metadata": {
        "id": "W20Z1W0QBl0_"
      }
    },
    {
      "cell_type": "markdown",
      "source": [
        "Project Type - AIRBNB Dashboards (Power BI Project)\n",
        "\n",
        "Contribution - Individual\n",
        "\n",
        "Name - Nikita Rajput"
      ],
      "metadata": {
        "id": "Rskan0tSBwLf"
      }
    },
    {
      "cell_type": "markdown",
      "source": [
        "# **Project Summary**"
      ],
      "metadata": {
        "id": "13FgWE1SDBws"
      }
    },
    {
      "cell_type": "markdown",
      "source": [
        "This project analyzes Airbnb listings in Chicago and New Orleans to identify key trends in pricing, popular neighborhoods, and host behavior.\n",
        "\n",
        "The goal is to provide data-driven insights for potential Airbnb hosts and travelers.\n"
      ],
      "metadata": {
        "id": "s8smhMw6DDiY"
      }
    },
    {
      "cell_type": "markdown",
      "source": [
        "# **GitHub Link -**"
      ],
      "metadata": {
        "id": "_HiBd08fD0Fk"
      }
    },
    {
      "cell_type": "markdown",
      "source": [
        "# **Problem Statement**"
      ],
      "metadata": {
        "id": "oEhw8-WnD2NJ"
      }
    },
    {
      "cell_type": "markdown",
      "source": [
        "- Identify the most popular neighborhoods based on listing count.\n",
        "- Analyze the distribution of property types and their pricing trends.\n",
        "- Examine the relationship between reviews and pricing.\n",
        "- Understand host behavior, including the number of listings per host."
      ],
      "metadata": {
        "id": "la32ofKbD4_9"
      }
    },
    {
      "cell_type": "markdown",
      "source": [
        "# **Dataset Overview**"
      ],
      "metadata": {
        "id": "nEgr2VL1Egm0"
      }
    },
    {
      "cell_type": "markdown",
      "source": [
        "We are working with two datasets:\n",
        "1. **Chicago listings dataset**: Contains detailed information about Airbnb listings in Chicago.\n",
        "2. **New Orleans listings dataset**: Includes similar data for New Orleans.\n"
      ],
      "metadata": {
        "id": "5hj7umXfEicB"
      }
    },
    {
      "cell_type": "markdown",
      "source": [
        "# **Key Features**"
      ],
      "metadata": {
        "id": "j9Q6Ua7oEvLO"
      }
    },
    {
      "cell_type": "markdown",
      "source": [
        "- `id`: Unique identifier for each listing\n",
        "- `neighbourhood`: Name of the neighborhood\n",
        "- `price`: Cost per night for the listing\n",
        "- `room_type`: Type of property (Entire home, Private room, etc.)\n",
        "- `reviews_per_month`: Number of reviews per month\n",
        "- `calculated_host_listings_count`: Number of listings owned by a host"
      ],
      "metadata": {
        "id": "galKp2F4Ewho"
      }
    },
    {
      "cell_type": "markdown",
      "source": [
        "# **Key Observations**"
      ],
      "metadata": {
        "id": "buVEYjg8E4FN"
      }
    },
    {
      "cell_type": "markdown",
      "source": [
        "- Some neighborhoods have significantly more listings than others.\n",
        "- Price distributions vary based on room type and location.\n",
        "- Hosts with multiple listings may follow different pricing strategies.\n",
        "- Listings with higher reviews tend to be priced competitively.\n"
      ],
      "metadata": {
        "id": "agIS8a78E5dq"
      }
    },
    {
      "cell_type": "markdown",
      "source": [
        "# **Let's Begin From Here....**"
      ],
      "metadata": {
        "id": "FWJhSSvqGfdD"
      }
    },
    {
      "cell_type": "markdown",
      "source": [
        "# **1. Popular Neighborhoods Analysis**"
      ],
      "metadata": {
        "id": "IOVjYQDwFAem"
      }
    },
    {
      "cell_type": "markdown",
      "source": [],
      "metadata": {
        "id": "41sVy4stJb6l"
      }
    },
    {
      "cell_type": "code",
      "source": [
        "# Step 1: Upload files in Google Colab\n",
        "from google.colab import files\n",
        "uploaded = files.upload()\n"
      ],
      "metadata": {
        "colab": {
          "base_uri": "https://localhost:8080/",
          "height": 38
        },
        "id": "AJ-ncjmPICPR",
        "outputId": "c8f676cb-724d-49a2-a0c9-5969b313b030"
      },
      "execution_count": null,
      "outputs": [
        {
          "output_type": "display_data",
          "data": {
            "text/plain": [
              "<IPython.core.display.HTML object>"
            ],
            "text/html": [
              "\n",
              "     <input type=\"file\" id=\"files-6638de1d-7faf-41b0-a58e-ad0908ae5f33\" name=\"files[]\" multiple disabled\n",
              "        style=\"border:none\" />\n",
              "     <output id=\"result-6638de1d-7faf-41b0-a58e-ad0908ae5f33\">\n",
              "      Upload widget is only available when the cell has been executed in the\n",
              "      current browser session. Please rerun this cell to enable.\n",
              "      </output>\n",
              "      <script>// Copyright 2017 Google LLC\n",
              "//\n",
              "// Licensed under the Apache License, Version 2.0 (the \"License\");\n",
              "// you may not use this file except in compliance with the License.\n",
              "// You may obtain a copy of the License at\n",
              "//\n",
              "//      http://www.apache.org/licenses/LICENSE-2.0\n",
              "//\n",
              "// Unless required by applicable law or agreed to in writing, software\n",
              "// distributed under the License is distributed on an \"AS IS\" BASIS,\n",
              "// WITHOUT WARRANTIES OR CONDITIONS OF ANY KIND, either express or implied.\n",
              "// See the License for the specific language governing permissions and\n",
              "// limitations under the License.\n",
              "\n",
              "/**\n",
              " * @fileoverview Helpers for google.colab Python module.\n",
              " */\n",
              "(function(scope) {\n",
              "function span(text, styleAttributes = {}) {\n",
              "  const element = document.createElement('span');\n",
              "  element.textContent = text;\n",
              "  for (const key of Object.keys(styleAttributes)) {\n",
              "    element.style[key] = styleAttributes[key];\n",
              "  }\n",
              "  return element;\n",
              "}\n",
              "\n",
              "// Max number of bytes which will be uploaded at a time.\n",
              "const MAX_PAYLOAD_SIZE = 100 * 1024;\n",
              "\n",
              "function _uploadFiles(inputId, outputId) {\n",
              "  const steps = uploadFilesStep(inputId, outputId);\n",
              "  const outputElement = document.getElementById(outputId);\n",
              "  // Cache steps on the outputElement to make it available for the next call\n",
              "  // to uploadFilesContinue from Python.\n",
              "  outputElement.steps = steps;\n",
              "\n",
              "  return _uploadFilesContinue(outputId);\n",
              "}\n",
              "\n",
              "// This is roughly an async generator (not supported in the browser yet),\n",
              "// where there are multiple asynchronous steps and the Python side is going\n",
              "// to poll for completion of each step.\n",
              "// This uses a Promise to block the python side on completion of each step,\n",
              "// then passes the result of the previous step as the input to the next step.\n",
              "function _uploadFilesContinue(outputId) {\n",
              "  const outputElement = document.getElementById(outputId);\n",
              "  const steps = outputElement.steps;\n",
              "\n",
              "  const next = steps.next(outputElement.lastPromiseValue);\n",
              "  return Promise.resolve(next.value.promise).then((value) => {\n",
              "    // Cache the last promise value to make it available to the next\n",
              "    // step of the generator.\n",
              "    outputElement.lastPromiseValue = value;\n",
              "    return next.value.response;\n",
              "  });\n",
              "}\n",
              "\n",
              "/**\n",
              " * Generator function which is called between each async step of the upload\n",
              " * process.\n",
              " * @param {string} inputId Element ID of the input file picker element.\n",
              " * @param {string} outputId Element ID of the output display.\n",
              " * @return {!Iterable<!Object>} Iterable of next steps.\n",
              " */\n",
              "function* uploadFilesStep(inputId, outputId) {\n",
              "  const inputElement = document.getElementById(inputId);\n",
              "  inputElement.disabled = false;\n",
              "\n",
              "  const outputElement = document.getElementById(outputId);\n",
              "  outputElement.innerHTML = '';\n",
              "\n",
              "  const pickedPromise = new Promise((resolve) => {\n",
              "    inputElement.addEventListener('change', (e) => {\n",
              "      resolve(e.target.files);\n",
              "    });\n",
              "  });\n",
              "\n",
              "  const cancel = document.createElement('button');\n",
              "  inputElement.parentElement.appendChild(cancel);\n",
              "  cancel.textContent = 'Cancel upload';\n",
              "  const cancelPromise = new Promise((resolve) => {\n",
              "    cancel.onclick = () => {\n",
              "      resolve(null);\n",
              "    };\n",
              "  });\n",
              "\n",
              "  // Wait for the user to pick the files.\n",
              "  const files = yield {\n",
              "    promise: Promise.race([pickedPromise, cancelPromise]),\n",
              "    response: {\n",
              "      action: 'starting',\n",
              "    }\n",
              "  };\n",
              "\n",
              "  cancel.remove();\n",
              "\n",
              "  // Disable the input element since further picks are not allowed.\n",
              "  inputElement.disabled = true;\n",
              "\n",
              "  if (!files) {\n",
              "    return {\n",
              "      response: {\n",
              "        action: 'complete',\n",
              "      }\n",
              "    };\n",
              "  }\n",
              "\n",
              "  for (const file of files) {\n",
              "    const li = document.createElement('li');\n",
              "    li.append(span(file.name, {fontWeight: 'bold'}));\n",
              "    li.append(span(\n",
              "        `(${file.type || 'n/a'}) - ${file.size} bytes, ` +\n",
              "        `last modified: ${\n",
              "            file.lastModifiedDate ? file.lastModifiedDate.toLocaleDateString() :\n",
              "                                    'n/a'} - `));\n",
              "    const percent = span('0% done');\n",
              "    li.appendChild(percent);\n",
              "\n",
              "    outputElement.appendChild(li);\n",
              "\n",
              "    const fileDataPromise = new Promise((resolve) => {\n",
              "      const reader = new FileReader();\n",
              "      reader.onload = (e) => {\n",
              "        resolve(e.target.result);\n",
              "      };\n",
              "      reader.readAsArrayBuffer(file);\n",
              "    });\n",
              "    // Wait for the data to be ready.\n",
              "    let fileData = yield {\n",
              "      promise: fileDataPromise,\n",
              "      response: {\n",
              "        action: 'continue',\n",
              "      }\n",
              "    };\n",
              "\n",
              "    // Use a chunked sending to avoid message size limits. See b/62115660.\n",
              "    let position = 0;\n",
              "    do {\n",
              "      const length = Math.min(fileData.byteLength - position, MAX_PAYLOAD_SIZE);\n",
              "      const chunk = new Uint8Array(fileData, position, length);\n",
              "      position += length;\n",
              "\n",
              "      const base64 = btoa(String.fromCharCode.apply(null, chunk));\n",
              "      yield {\n",
              "        response: {\n",
              "          action: 'append',\n",
              "          file: file.name,\n",
              "          data: base64,\n",
              "        },\n",
              "      };\n",
              "\n",
              "      let percentDone = fileData.byteLength === 0 ?\n",
              "          100 :\n",
              "          Math.round((position / fileData.byteLength) * 100);\n",
              "      percent.textContent = `${percentDone}% done`;\n",
              "\n",
              "    } while (position < fileData.byteLength);\n",
              "  }\n",
              "\n",
              "  // All done.\n",
              "  yield {\n",
              "    response: {\n",
              "      action: 'complete',\n",
              "    }\n",
              "  };\n",
              "}\n",
              "\n",
              "scope.google = scope.google || {};\n",
              "scope.google.colab = scope.google.colab || {};\n",
              "scope.google.colab._files = {\n",
              "  _uploadFiles,\n",
              "  _uploadFilesContinue,\n",
              "};\n",
              "})(self);\n",
              "</script> "
            ]
          },
          "metadata": {}
        }
      ]
    },
    {
      "cell_type": "code",
      "source": [
        "# Step 1: Upload files in Google Colab\n",
        "from google.colab import files\n",
        "uploaded = files.upload()"
      ],
      "metadata": {
        "id": "vVFvoGiGIKhL"
      },
      "execution_count": null,
      "outputs": []
    },
    {
      "cell_type": "code",
      "source": [
        "# Step 2: Import necessary libraries\n",
        "import pandas as pd\n",
        "import matplotlib.pyplot as plt\n",
        "import seaborn as sns\n",
        "\n",
        "# Step 3: Load the datasets\n",
        "chicago_df = pd.read_csv(\"Chicago listings.csv\")\n",
        "new_orleans_df = pd.read_csv(\"New Orleans Listing.csv\")\n",
        "\n",
        "# Step 4: Display the first few rows to verify\n",
        "print(chicago_df.head())\n",
        "print(new_orleans_df.head())\n",
        "\n",
        "# Step 5: Count listings per neighborhood\n",
        "chicago_neighborhood_stats = chicago_df.groupby('neighbourhood').agg({'id': 'count'})\\\n",
        "    .rename(columns={'id': 'listings'})\\\n",
        "    .sort_values(by='listings', ascending=False)\n",
        "\n",
        "new_orleans_neighborhood_stats = new_orleans_df.groupby('neighbourhood').agg({'id': 'count'})\\\n",
        "    .rename(columns={'id': 'listings'})\\\n",
        "    .sort_values(by='listings', ascending=False)\n",
        "\n",
        "# Step 6: Visualization of Top 10 Neighborhoods in Chicago\n",
        "plt.figure(figsize=(12,5))\n",
        "sns.barplot(y=chicago_neighborhood_stats.head(10).index,\n",
        "            x=chicago_neighborhood_stats['listings'].head(10),\n",
        "            palette='viridis')\n",
        "plt.xlabel(\"Number of Listings\")\n",
        "plt.ylabel(\"Neighborhood\")\n",
        "plt.title(\"Top 10 Neighborhoods in Chicago by Listings\")\n",
        "plt.show()\n",
        "\n",
        "# Step 7: Visualization of Top 10 Neighborhoods in New Orleans\n",
        "plt.figure(figsize=(12,5))\n",
        "sns.barplot(y=new_orleans_neighborhood_stats.head(10).index,\n",
        "            x=new_orleans_neighborhood_stats['listings'].head(10),\n",
        "            palette='coolwarm')\n",
        "plt.xlabel(\"Number of Listings\")\n",
        "plt.ylabel(\"Neighborhood\")\n",
        "plt.title(\"Top 10 Neighborhoods in New Orleans by Listings\")\n",
        "plt.show()\n"
      ],
      "metadata": {
        "id": "hyHt65oAI51W"
      },
      "execution_count": null,
      "outputs": []
    },
    {
      "cell_type": "markdown",
      "source": [
        "# **2. Property Type Analysis**"
      ],
      "metadata": {
        "id": "z98SyGdPLzpG"
      }
    },
    {
      "cell_type": "code",
      "source": [
        "plt.figure(figsize=(10,5))\n",
        "sns.countplot(y=chicago_df['room_type'], order=chicago_df['room_type'].value_counts().index, palette='Set2')\n",
        "plt.xlabel(\"Count\")\n",
        "plt.ylabel(\"Room Type\")\n",
        "plt.title(\"Room Type Distribution in Chicago\")\n",
        "plt.show()\n",
        "\n",
        "plt.figure(figsize=(10,5))\n",
        "sns.countplot(y=new_orleans_df['room_type'], order=new_orleans_df['room_type'].value_counts().index, palette='Set1')\n",
        "plt.xlabel(\"Count\")\n",
        "plt.ylabel(\"Room Type\")\n",
        "plt.title(\"Room Type Distribution in New Orleans\")\n",
        "plt.show()\n"
      ],
      "metadata": {
        "id": "OFFExmLaMCmA"
      },
      "execution_count": null,
      "outputs": []
    },
    {
      "cell_type": "markdown",
      "source": [
        "# **3. Price vs. Reviews Analysis**"
      ],
      "metadata": {
        "id": "HBNMmgFJMFGI"
      }
    },
    {
      "cell_type": "code",
      "source": [
        "plt.figure(figsize=(10,6))\n",
        "sns.scatterplot(x=chicago_df['reviews_per_month'], y=chicago_df['price'], alpha=0.5)\n",
        "plt.xlabel(\"Reviews per Month\")\n",
        "plt.ylabel(\"Price ($)\")\n",
        "plt.title(\"Price vs. Reviews (Chicago)\")\n",
        "plt.show()\n",
        "\n",
        "plt.figure(figsize=(10,6))\n",
        "sns.scatterplot(x=new_orleans_df['reviews_per_month'], y=new_orleans_df['price'], alpha=0.5, color='red')\n",
        "plt.xlabel(\"Reviews per Month\")\n",
        "plt.ylabel(\"Price ($)\")\n",
        "plt.title(\"Price vs. Reviews (New Orleans)\")\n",
        "plt.show()"
      ],
      "metadata": {
        "id": "hm3Y4poMML1b"
      },
      "execution_count": null,
      "outputs": []
    },
    {
      "cell_type": "markdown",
      "source": [
        "# **4. Host Analysis**"
      ],
      "metadata": {
        "id": "xKK6ew0NMbAD"
      }
    },
    {
      "cell_type": "code",
      "source": [
        "plt.figure(figsize=(12,5))\n",
        "sns.histplot(chicago_df['calculated_host_listings_count'], bins=30, kde=True, color='blue')\n",
        "plt.xlabel(\"Number of Listings per Host\")\n",
        "plt.ylabel(\"Count\")\n",
        "plt.title(\"Distribution of Host Listings in Chicago\")\n",
        "plt.show()\n",
        "\n",
        "plt.figure(figsize=(12,5))\n",
        "sns.histplot(new_orleans_df['calculated_host_listings_count'], bins=30, kde=True, color='green')\n",
        "plt.xlabel(\"Number of Listings per Host\")\n",
        "plt.ylabel(\"Count\")\n",
        "plt.title(\"Distribution of Host Listings in New Orleans\")\n",
        "plt.show()\n"
      ],
      "metadata": {
        "id": "V6X6J9F1MfNn"
      },
      "execution_count": null,
      "outputs": []
    },
    {
      "cell_type": "markdown",
      "source": [
        "# **Data Cleaning**"
      ],
      "metadata": {
        "id": "gzwN9CDANFef"
      }
    },
    {
      "cell_type": "code",
      "source": [
        "# Convert 'price' column to numeric (removing '$' if needed)\n",
        "chicago_df['price'] = pd.to_numeric(chicago_df['price'], errors='coerce')\n",
        "new_orleans_df['price'] = pd.to_numeric(new_orleans_df['price'], errors='coerce')\n",
        "\n",
        "# Fill missing values\n",
        "chicago_df['reviews_per_month'].fillna(0, inplace=True)\n",
        "new_orleans_df['reviews_per_month'].fillna(0, inplace=True)\n",
        "\n",
        "# Remove duplicate rows\n",
        "chicago_df.drop_duplicates(inplace=True)\n",
        "new_orleans_df.drop_duplicates(inplace=True)"
      ],
      "metadata": {
        "id": "efbOG7G2NLHS"
      },
      "execution_count": null,
      "outputs": []
    },
    {
      "cell_type": "markdown",
      "source": [],
      "metadata": {
        "id": "gAqimluaO9he"
      }
    },
    {
      "cell_type": "code",
      "source": [
        "# Save cleaned data\n",
        "chicago_df.to_csv(\"cleaned_chicago_listings.csv\", index=False)\n",
        "new_orleans_df.to_csv(\"cleaned_new_orleans_listings.csv\", index=False)\n",
        "\n",
        "# Download the files\n",
        "from google.colab import files\n",
        "files.download(\"cleaned_chicago_listings.csv\")\n",
        "files.download(\"cleaned_new_orleans_listings.csv\")\n"
      ],
      "metadata": {
        "id": "eTFGNbrnO92z"
      },
      "execution_count": null,
      "outputs": []
    },
    {
      "cell_type": "code",
      "source": [
        "from google.colab import files\n",
        "files.download(\"cleaned_chicago_listings.csv\")"
      ],
      "metadata": {
        "id": "aLt-fMwc8kKK"
      },
      "execution_count": null,
      "outputs": []
    }
  ]
}